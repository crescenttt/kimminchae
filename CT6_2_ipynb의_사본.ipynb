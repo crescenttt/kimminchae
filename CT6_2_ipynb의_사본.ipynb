{
  "nbformat": 4,
  "nbformat_minor": 0,
  "metadata": {
    "colab": {
      "provenance": [],
      "authorship_tag": "ABX9TyMUGMmUYopCwvtKGhaz3Zdm",
      "include_colab_link": true
    },
    "kernelspec": {
      "name": "python3",
      "display_name": "Python 3"
    },
    "language_info": {
      "name": "python"
    }
  },
  "cells": [
    {
      "cell_type": "markdown",
      "metadata": {
        "id": "view-in-github",
        "colab_type": "text"
      },
      "source": [
        "<a href=\"https://colab.research.google.com/github/crescenttt/kimminchae/blob/main/CT6_2_ipynb%EC%9D%98_%EC%82%AC%EB%B3%B8.ipynb\" target=\"_parent\"><img src=\"https://colab.research.google.com/assets/colab-badge.svg\" alt=\"Open In Colab\"/></a>"
      ]
    },
    {
      "cell_type": "markdown",
      "source": [
        "학생 10명의 성적을 입력받아 평균을 계산하는 알고리즘을 의사코드로 표현해 보자"
      ],
      "metadata": {
        "id": "_J9m6DytXdfe"
      }
    },
    {
      "cell_type": "code",
      "execution_count": null,
      "metadata": {
        "colab": {
          "base_uri": "https://localhost:8080/"
        },
        "id": "5eBndj65XOB2",
        "outputId": "097e3808-00fc-41a3-f68d-a70f848f274d"
      },
      "outputs": [
        {
          "output_type": "stream",
          "name": "stdout",
          "text": [
            "점수:100\n",
            "점수:100\n",
            "점수:100\n",
            "점수:100\n",
            "점수:100\n",
            "점수:100\n",
            "점수:100\n",
            "점수:100\n",
            "점수:100\n",
            "점수:100\n",
            "100.0\n"
          ]
        }
      ],
      "source": [
        "total = 0                          #total값 0에서 시작\n",
        "counter = 1\n",
        "while counter<=10:                 #10번 반복하여라\n",
        "  grade = int(input(\"점수:\"))      #점수를 정수로 입력하여라\n",
        "  total += grade                   #total에 입력값을 더하고 저장\n",
        "  counter += 1                     #반복횟수 저장\n",
        "average = total/10                 #10개로 평균값을 나누어라\n",
        "print(average)                     #average값 출력"
      ]
    }
  ]
}