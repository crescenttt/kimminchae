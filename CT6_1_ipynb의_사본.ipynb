{
  "nbformat": 4,
  "nbformat_minor": 0,
  "metadata": {
    "colab": {
      "provenance": [],
      "authorship_tag": "ABX9TyM62WeKSvy1UdYEV7mnhacw",
      "include_colab_link": true
    },
    "kernelspec": {
      "name": "python3",
      "display_name": "Python 3"
    },
    "language_info": {
      "name": "python"
    }
  },
  "cells": [
    {
      "cell_type": "markdown",
      "metadata": {
        "id": "view-in-github",
        "colab_type": "text"
      },
      "source": [
        "<a href=\"https://colab.research.google.com/github/crescenttt/kimminchae/blob/main/CT6_1_ipynb%EC%9D%98_%EC%82%AC%EB%B3%B8.ipynb\" target=\"_parent\"><img src=\"https://colab.research.google.com/assets/colab-badge.svg\" alt=\"Open In Colab\"/></a>"
      ]
    },
    {
      "cell_type": "markdown",
      "source": [
        "사용자로부터 3개의 정수를 받아 평균을 계산하는 알고리즘과 이것을 구한다"
      ],
      "metadata": {
        "id": "YXwCIX9fTFs4"
      }
    },
    {
      "cell_type": "code",
      "execution_count": null,
      "metadata": {
        "colab": {
          "base_uri": "https://localhost:8080/"
        },
        "id": "7uvWabj5TEQ0",
        "outputId": "82daac2c-5eff-46b7-fcc5-adc2496652f2"
      },
      "outputs": [
        {
          "output_type": "stream",
          "name": "stdout",
          "text": [
            "n1의 값을 입력하시오4\n",
            "n2의 값을 입력하시오4\n",
            "n3의 값을 입력하시오4\n",
            "합 12 평균 4.0\n"
          ]
        }
      ],
      "source": [
        "n1=int(input(\"n1의 값을 입력하시오\"))#사용자에게 n1을 정수형으로 받아라\n",
        "n2=int(input(\"n2의 값을 입력하시오\"))#사용자에게 n2을 정수형으로 받아라\n",
        "n3=int(input(\"n3의 값을 입력하시오\"))#사용자에게 n3을 정수형으로 받아라\n",
        "total=n1+n2+n3                       #total변수에 n1, n2, n3의 합을 저장하라\n",
        "average = total/3                    #average 변수에 total을 3개로 나누어라\n",
        "print('합', total, '평균',average)"
      ]
    },
    {
      "cell_type": "markdown",
      "source": [],
      "metadata": {
        "id": "h0AwAUfbTE-x"
      }
    }
  ]
}